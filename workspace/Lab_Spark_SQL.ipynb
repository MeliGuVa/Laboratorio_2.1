{
 "cells": [
  {
   "cell_type": "markdown",
   "id": "f377b08b-8f73-4ae9-a818-aa8075c7adf1",
   "metadata": {},
   "source": [
    "## ¿Qué es SparkSession?\n",
    "La SparkSession es el punto de entrada principal para interactuar con Spark. A través de ella, podemos acceder a todas las funcionalidades de Spark, incluyendo la creación de RDDs y DataFrames.\n",
    "\n",
    "La SparkSession es como la llave maestra que te da acceso a toda la fábrica de procesamiento de datos de Spark."
   ]
  },
  {
   "cell_type": "markdown",
   "id": "012fef8c-02af-4fb7-ac32-6667e47bfac6",
   "metadata": {},
   "source": [
    "## 🔧 Configuración del Entorno Spark\n",
    "\n",
    "En esta celda inicializamos la SparkSession, que es el punto de entrada principal para trabajar con Spark. Configuramos:\n",
    "\n",
    "- Nombre de la aplicación: `\"Lab_Spark_SQL\"`\n",
    "- URL del cluster master\n",
    "- Número de particiones para operaciones shuffle"
   ]
  },
  {
   "cell_type": "code",
   "execution_count": 1,
   "id": "d7035c5c-308e-4e26-acb3-d42eb52229dd",
   "metadata": {},
   "outputs": [
    {
     "name": "stderr",
     "output_type": "stream",
     "text": [
      "Setting default log level to \"WARN\".\n",
      "To adjust logging level use sc.setLogLevel(newLevel). For SparkR, use setLogLevel(newLevel).\n",
      "25/05/29 19:57:48 WARN NativeCodeLoader: Unable to load native-hadoop library for your platform... using builtin-java classes where applicable\n"
     ]
    }
   ],
   "source": [
    "# Celda 1: Configuración para DataFrames\n",
    "from pyspark.sql import SparkSession\n",
    "from pyspark.sql.functions import col, avg, count, desc\n",
    "\n",
    "spark = SparkSession.builder \\\n",
    "    .appName(\"Lab_Spark_SQL\") \\\n",
    "    .master(\"local[*]\") \\\n",
    "    .config(\"spark.sql.shuffle.partitions\", \"8\") \\\n",
    "    .getOrCreate()"
   ]
  },
  {
   "cell_type": "markdown",
   "id": "50e5c1de-7d03-4f4f-858f-238235eb631d",
   "metadata": {},
   "source": [
    "\n",
    "## 📂 Carga y Limpieza de Datos\n",
    "\n",
    "Cargamos dos datasets principales:\n",
    "\n",
    "1. **Reviews**: Contiene las reseñas de usuarios\n",
    "2. **Books**: Metadatos de los libros\n",
    "\n",
    "**Transformaciones aplicadas:**\n",
    "- Conversión de `review/score` a tipo numérico\n",
    "- Creación de títulos normalizados para mejor matching\n",
    "- Eliminación de registros con scores nulos"
   ]
  },
  {
   "cell_type": "code",
   "execution_count": 10,
   "id": "732cb533-ef2b-4e9f-8138-f155c5e35104",
   "metadata": {},
   "outputs": [
    {
     "name": "stderr",
     "output_type": "stream",
     "text": [
      "                                                                                "
     ]
    },
    {
     "name": "stdout",
     "output_type": "stream",
     "text": [
      "=== Columnas en reviews_df ===\n",
      "['Id', 'Title', 'Price', 'User_id', 'profileName', 'review/helpfulness', 'review/score', 'review/time', 'review/summary', 'review/text', 'review_score']\n",
      "\n",
      "=== Columnas en books_df ===\n",
      "['Title', 'description', 'authors', 'image', 'previewLink', 'publisher', 'publishedDate', 'infoLink', 'categories', 'ratingsCount']\n",
      "\n",
      "Columnas comunes potenciales para join: {'Title'}\n"
     ]
    }
   ],
   "source": [
    "# Cargar y preparar los datos\n",
    "reviews_df = spark.read \\\n",
    "    .option(\"header\", \"true\") \\\n",
    "    .option(\"inferSchema\", \"true\") \\\n",
    "    .csv(\"/data/Books_rating.csv\") \\\n",
    "    .withColumn(\"review_score\", col(\"review/score\").cast(DoubleType())) \\\n",
    "    .dropna(subset=[\"review_score\"])\n",
    "\n",
    "books_df = spark.read \\\n",
    "    .option(\"header\", \"true\") \\\n",
    "    .option(\"inferSchema\", \"true\") \\\n",
    "    .csv(\"/data/books_data.csv\")\n",
    "\n",
    "# Mostrar columnas disponibles para identificar la clave correcta\n",
    "print(\"=== Columnas en reviews_df ===\")\n",
    "print(reviews_df.columns)\n",
    "\n",
    "print(\"\\n=== Columnas en books_df ===\")\n",
    "print(books_df.columns)\n",
    "\n",
    "# Buscar posibles columnas de unión\n",
    "def find_join_key(df1, df2):\n",
    "    common_cols = set(df1.columns) & set(df2.columns)\n",
    "    print(f\"\\nColumnas comunes potenciales para join: {common_cols}\")\n",
    "    return common_cols\n",
    "\n",
    "join_keys = find_join_key(reviews_df, books_df)\n",
    "\n",
    "# Sugerir la mejor columna para el join\n",
    "if 'book_id' in join_keys:\n",
    "    join_column = 'book_id'\n",
    "elif 'Id' in join_keys:\n",
    "    join_column = 'Id'\n",
    "elif 'Title' in join_keys:\n",
    "    join_column = 'Title'\n",
    "else:\n",
    "    join_column = None\n",
    "    print(\"\\n⚠️ No se encontraron columnas obvias para el join\")\n",
    "    print(\"Revisa manualmente los esquemas para identificar la relación\")"
   ]
  },
  {
   "cell_type": "code",
   "execution_count": 5,
   "id": "90eee825-fa2c-4c6b-863c-bdf61046c42b",
   "metadata": {},
   "outputs": [],
   "source": [
    "import matplotlib.pyplot as plt\n",
    "from time import time\n",
    "\n",
    "sc = spark.sparkContext\n",
    "reviews_rdd = sc.textFile(\"/data/Books_rating.csv\")"
   ]
  },
  {
   "cell_type": "code",
   "execution_count": 25,
   "id": "4c20094d-f92f-453c-b481-719e50c40f70",
   "metadata": {},
   "outputs": [
    {
     "name": "stderr",
     "output_type": "stream",
     "text": [
      "[Stage 70:=====================================================>  (21 + 1) / 22]"
     ]
    },
    {
     "name": "stdout",
     "output_type": "stream",
     "text": [
      "+-------+------------------+\n",
      "|summary|      review_score|\n",
      "+-------+------------------+\n",
      "|  count|           2981936|\n",
      "|   mean| 1656.860421970827|\n",
      "| stddev|1427549.9863179326|\n",
      "|    min|               1.0|\n",
      "|    25%|               4.0|\n",
      "|    50%|               5.0|\n",
      "|    75%|               5.0|\n",
      "|    max|        1.295568E9|\n",
      "+-------+------------------+\n",
      "\n"
     ]
    },
    {
     "name": "stderr",
     "output_type": "stream",
     "text": [
      "                                                                                "
     ]
    }
   ],
   "source": [
    "reviews_df.select(\"review_score\").summary().show()"
   ]
  },
  {
   "cell_type": "code",
   "execution_count": 16,
   "id": "2c2a55da-bea3-4405-b06e-be29c9eea22c",
   "metadata": {},
   "outputs": [
    {
     "name": "stdout",
     "output_type": "stream",
     "text": [
      "Columnas en reviews_df: ['Id', 'Title', 'Price', 'User_id', 'profileName', 'review/helpfulness', 'review/score', 'review/time', 'review/summary', 'review/text', 'review_score', 'normalized_title']\n",
      "Columnas en books_df: ['Title', 'description', 'authors', 'image', 'previewLink', 'publisher', 'publishedDate', 'infoLink', 'categories', 'ratingsCount', 'normalized_title']\n"
     ]
    }
   ],
   "source": [
    "from pyspark.sql.functions import col, lower, regexp_replace, trim\n",
    "\n",
    "# Preparamos los datos creando la columna normalized_title\n",
    "reviews_df = reviews_df.withColumn(\n",
    "    \"review_score\",\n",
    "    col(\"review/score\").cast(\"double\")\n",
    ").dropna(subset=[\"review_score\"])\n",
    "\n",
    "# Creamos la columna normalized_title si no existe\n",
    "if \"normalized_title\" not in reviews_df.columns:\n",
    "    reviews_df = reviews_df.withColumn(\n",
    "        \"normalized_title\",\n",
    "        lower(trim(regexp_replace(col(\"Title\"), \"[^a-zA-Z0-9\\\\s]\", \"\")))\n",
    "    )\n",
    "\n",
    "if \"normalized_title\" not in books_df.columns:\n",
    "    books_df = books_df.withColumn(\n",
    "        \"normalized_title\",\n",
    "        lower(trim(regexp_replace(col(\"Title\"), \"[^a-zA-Z0-9\\\\s]\", \"\")))\n",
    "    )\n",
    "\n",
    "print(\"Columnas en reviews_df:\", reviews_df.columns)\n",
    "print(\"Columnas en books_df:\", books_df.columns)"
   ]
  },
  {
   "cell_type": "markdown",
   "id": "91e91d78-b3f4-458c-8ae9-6e11aa86b1f8",
   "metadata": {},
   "source": [
    "## 📊 Análisis con DataFrame API\n",
    "\n",
    "Realizamos:\n",
    "\n",
    "1. **Agregaciones**:\n",
    "   - Puntuación promedio por libro\n",
    "   - Conteo de reseñas\n",
    "\n",
    "2. **Joins**:\n",
    "   - Unión con metadatos de libros usando títulos normalizados\n",
    "\n",
    "3. **Presentación**:\n",
    "   - Formateo de puntuaciones con estrellas ★\n",
    "   - Indicador visual de existencia en catálogo (✓/✗)"
   ]
  },
  {
   "cell_type": "code",
   "execution_count": 18,
   "id": "c70c7f0b-e391-4740-b1f4-db584a96dcab",
   "metadata": {},
   "outputs": [
    {
     "name": "stdout",
     "output_type": "stream",
     "text": [
      "\n",
      "==========================================================================================\n",
      "============================= TOP 5 LIBROS MEJOR CALIFICADOS =============================\n",
      "==========================================================================================\n"
     ]
    },
    {
     "name": "stderr",
     "output_type": "stream",
     "text": [
      "                                                                                "
     ]
    },
    {
     "name": "stdout",
     "output_type": "stream",
     "text": [
      "+------------------------------+------------------------------+----------+------------+-----------+\n",
      "|               Título (Review)|                Título (Libro)|Puntuación|Núm. Reseñas|En Catálogo|\n",
      "+------------------------------+------------------------------+----------+------------+-----------+\n",
      "|Theatres of San Francisco (...|Theatres of San Francisco (...|    68.8 ★|           5|          ✓|\n",
      "|100 Ways To Take Better Lan...|100 Ways To Take Better Lan...|     5.0 ★|           4|          ✓|\n",
      "|10 Downing Street (Gamekeep...|10 Downing Street (Gamekeep...|     5.0 ★|           3|          ✓|\n",
      "|1 Corinthians (The People's...|1 Corinthians (The People's...|     5.0 ★|           1|          ✓|\n",
      "|   100 Inspirational Favorites|   100 Inspirational Favorites|     5.0 ★|           1|          ✓|\n",
      "+------------------------------+------------------------------+----------+------------+-----------+\n",
      "\n",
      "\n",
      "==========================================================================================\n",
      "============================== VERSIÓN FORMATEADA (Pandas) ===============================\n",
      "==========================================================================================\n"
     ]
    },
    {
     "name": "stderr",
     "output_type": "stream",
     "text": [
      "                                                                                "
     ]
    },
    {
     "data": {
      "text/html": [
       "<style type=\"text/css\">\n",
       "</style>\n",
       "<table id=\"T_aeaf3\">\n",
       "  <thead>\n",
       "    <tr>\n",
       "      <th id=\"T_aeaf3_level0_col0\" class=\"col_heading level0 col0\" >Título (Review)</th>\n",
       "      <th id=\"T_aeaf3_level0_col1\" class=\"col_heading level0 col1\" >Título (Libro)</th>\n",
       "      <th id=\"T_aeaf3_level0_col2\" class=\"col_heading level0 col2\" >Puntuación</th>\n",
       "      <th id=\"T_aeaf3_level0_col3\" class=\"col_heading level0 col3\" >Núm. Reseñas</th>\n",
       "      <th id=\"T_aeaf3_level0_col4\" class=\"col_heading level0 col4\" >En Catálogo</th>\n",
       "    </tr>\n",
       "  </thead>\n",
       "  <tbody>\n",
       "    <tr>\n",
       "      <td id=\"T_aeaf3_row0_col0\" class=\"data row0 col0\" >Theatres of San Francisco (CA) (Images of America)</td>\n",
       "      <td id=\"T_aeaf3_row0_col1\" class=\"data row0 col1\" >Theatres of San Francisco (CA) (Images of America)</td>\n",
       "      <td id=\"T_aeaf3_row0_col2\" class=\"data row0 col2\" >68.8 ★</td>\n",
       "      <td id=\"T_aeaf3_row0_col3\" class=\"data row0 col3\" >5</td>\n",
       "      <td id=\"T_aeaf3_row0_col4\" class=\"data row0 col4\" >✓</td>\n",
       "    </tr>\n",
       "    <tr>\n",
       "      <td id=\"T_aeaf3_row1_col0\" class=\"data row1 col0\" >10 Minute Guide to Windows 95 (2nd Edition)</td>\n",
       "      <td id=\"T_aeaf3_row1_col1\" class=\"data row1 col1\" >10 Minute Guide to Windows 95 (2nd Edition)</td>\n",
       "      <td id=\"T_aeaf3_row1_col2\" class=\"data row1 col2\" >5.0 ★</td>\n",
       "      <td id=\"T_aeaf3_row1_col3\" class=\"data row1 col3\" >1</td>\n",
       "      <td id=\"T_aeaf3_row1_col4\" class=\"data row1 col4\" >✓</td>\n",
       "    </tr>\n",
       "    <tr>\n",
       "      <td id=\"T_aeaf3_row2_col0\" class=\"data row2 col0\" >100 Magical Moments</td>\n",
       "      <td id=\"T_aeaf3_row2_col1\" class=\"data row2 col1\" >100 Magical Moments</td>\n",
       "      <td id=\"T_aeaf3_row2_col2\" class=\"data row2 col2\" >5.0 ★</td>\n",
       "      <td id=\"T_aeaf3_row2_col3\" class=\"data row2 col3\" >3</td>\n",
       "      <td id=\"T_aeaf3_row2_col4\" class=\"data row2 col4\" >✓</td>\n",
       "    </tr>\n",
       "    <tr>\n",
       "      <td id=\"T_aeaf3_row3_col0\" class=\"data row3 col0\" >100 Hours to Suez: The Epic Story of Israel's Smashing Victory in the First Sinai Campaign</td>\n",
       "      <td id=\"T_aeaf3_row3_col1\" class=\"data row3 col1\" >100 Hours to Suez: The Epic Story of Israel's Smashing Victory in the First Sinai Campaign</td>\n",
       "      <td id=\"T_aeaf3_row3_col2\" class=\"data row3 col2\" >5.0 ★</td>\n",
       "      <td id=\"T_aeaf3_row3_col3\" class=\"data row3 col3\" >1</td>\n",
       "      <td id=\"T_aeaf3_row3_col4\" class=\"data row3 col4\" >✓</td>\n",
       "    </tr>\n",
       "    <tr>\n",
       "      <td id=\"T_aeaf3_row4_col0\" class=\"data row4 col0\" >10,000 rpm and diggin it, yeah!</td>\n",
       "      <td id=\"T_aeaf3_row4_col1\" class=\"data row4 col1\" >10,000 rpm and diggin it, yeah!</td>\n",
       "      <td id=\"T_aeaf3_row4_col2\" class=\"data row4 col2\" >5.0 ★</td>\n",
       "      <td id=\"T_aeaf3_row4_col3\" class=\"data row4 col3\" >1</td>\n",
       "      <td id=\"T_aeaf3_row4_col4\" class=\"data row4 col4\" >✓</td>\n",
       "    </tr>\n",
       "  </tbody>\n",
       "</table>\n"
      ],
      "text/plain": [
       "<pandas.io.formats.style.Styler at 0x7f281e89eeb0>"
      ]
     },
     "metadata": {},
     "output_type": "display_data"
    }
   ],
   "source": [
    "from pyspark.sql.functions import col, avg, count, desc, round, when, first, format_string\n",
    "\n",
    "try:\n",
    "    # Análisis con DataFrame API\n",
    "    results_df = (\n",
    "        reviews_df.groupBy(\"normalized_title\")\n",
    "        .agg(\n",
    "            round(avg(\"review_score\"), 2).alias(\"Puntuación\"),\n",
    "            count(\"*\").alias(\"Núm_Reseñas\"),\n",
    "            first(col(\"Title\")).alias(\"Título_Review\")\n",
    "        )\n",
    "        .join(\n",
    "            books_df,\n",
    "            \"normalized_title\",\n",
    "            \"left\"\n",
    "        )\n",
    "        .select(\n",
    "            col(\"Título_Review\").alias(\"Título (Review)\"),\n",
    "            col(\"Title\").alias(\"Título (Libro)\"),\n",
    "            format_string(\"%.1f ★\", col(\"Puntuación\")).alias(\"Puntuación\"),\n",
    "            format_string(\"%,d\", col(\"Núm_Reseñas\")).alias(\"Núm. Reseñas\"),\n",
    "            when(col(\"Title\").isNotNull(), \"✓\").otherwise(\"✗\").alias(\"En Catálogo\")\n",
    "        )\n",
    "        .orderBy(desc(\"Puntuación\"))\n",
    "    )\n",
    "\n",
    "    # Mostramos resultados con formato mejorado\n",
    "    print(\"\\n\" + \"=\"*90)\n",
    "    print(\" TOP 5 LIBROS MEJOR CALIFICADOS \".center(90, \"=\"))\n",
    "    print(\"=\"*90)\n",
    "    \n",
    "    # Versión compatible con todas las versiones de PySpark\n",
    "    results_df.limit(5).show(truncate=30, vertical=False)\n",
    "    \n",
    "    # Opcional: Mostrar con pandas para mejor formato\n",
    "    try:\n",
    "        print(\"\\n\" + \"=\"*90)\n",
    "        print(\" VERSIÓN FORMATEADA (Pandas) \".center(90, \"=\"))\n",
    "        print(\"=\"*90)\n",
    "        \n",
    "        pd_df = results_df.limit(5).toPandas()\n",
    "        from IPython.display import display\n",
    "        display(pd_df.style.hide(axis='index'))\n",
    "        \n",
    "    except Exception as e:\n",
    "        print(\"\\n(Para ver la versión formateada, instala pandas: !pip install pandas)\")\n",
    "\n",
    "except Exception as e:\n",
    "    print(f\"\\nError durante el análisis: {str(e)}\")\n",
    "    print(\"\\nSolución:\")\n",
    "    print(\"1. Asegúrate de haber ejecutado primero la Celda 2 de preparación\")\n",
    "    print(\"2. Columnas disponibles en reviews_df:\", reviews_df.columns)\n",
    "    print(\"3. Columnas disponibles en books_df:\", books_df.columns)"
   ]
  },
  {
   "cell_type": "markdown",
   "id": "65d7b465-fa43-4b57-aa13-43690e2aa886",
   "metadata": {},
   "source": [
    "## 🔍 Análisis con SQL\n",
    "\n",
    "Creamos vistas temporales y ejecutamos consultas SQL equivalentes al análisis anterior, demostrando la interoperabilidad entre APIs.\n",
    "\n",
    "**Ventajas:**\n",
    "- Sintaxis familiar para usuarios de SQL\n",
    "- Mismo rendimiento que DataFrame API"
   ]
  },
  {
   "cell_type": "code",
   "execution_count": 20,
   "id": "f62fff73-d4cc-401b-b5ad-a271fc1ab992",
   "metadata": {},
   "outputs": [
    {
     "name": "stdout",
     "output_type": "stream",
     "text": [
      "\n",
      "=== RESULTADOS SQL ===\n"
     ]
    },
    {
     "name": "stderr",
     "output_type": "stream",
     "text": [
      "[Stage 39:====================================>                     (5 + 3) / 8]"
     ]
    },
    {
     "name": "stdout",
     "output_type": "stream",
     "text": [
      "+------------------------------+------------------------------+-----------+-------+-----------+\n",
      "|                 Título Review|                  Título Libro| Puntuación|Reseñas|En Catálogo|\n",
      "+------------------------------+------------------------------+-----------+-------+-----------+\n",
      "|\"\"\"Shakespeare\"\" identified...|\"\"\"Shakespeare\"\" identified...| 1.295568E9|      1|          ✓|\n",
      "|  \"\"\"Charge that to my account|  \"\"\"Charge that to my account|1.2108384E9|      3|          ✓|\n",
      "|Theatres of San Francisco (...|Theatres of San Francisco (...|       68.8|      5|          ✓|\n",
      "|\"Management Secrets of the ...|\"Management Secrets of the ...|      19.95|     15|          ✓|\n",
      "|             GOD'S LITTLE ACRE|             God's little acre|      14.57|     30|          ✓|\n",
      "|             GOD'S LITTLE ACRE|             God's Little Acre|      14.57|     30|          ✓|\n",
      "|             God's little acre|             GOD'S LITTLE ACRE|      14.57|     30|          ✓|\n",
      "|             GOD'S LITTLE ACRE|             GOD'S LITTLE ACRE|      14.57|     30|          ✓|\n",
      "|             God's Little Acre|             God's little acre|      14.57|     60|          ✓|\n",
      "|             God's Little Acre|             God's Little Acre|      14.57|     60|          ✓|\n",
      "+------------------------------+------------------------------+-----------+-------+-----------+\n",
      "\n"
     ]
    },
    {
     "name": "stderr",
     "output_type": "stream",
     "text": [
      "                                                                                "
     ]
    }
   ],
   "source": [
    "reviews_df.createOrReplaceTempView(\"reviews\")\n",
    "books_df.createOrReplaceTempView(\"books\")\n",
    "\n",
    "top_books_sql = spark.sql(\"\"\"\n",
    "    SELECT \n",
    "        r.Title AS `Título Review`,\n",
    "        b.Title AS `Título Libro`,\n",
    "        ROUND(AVG(r.review_score), 2) AS `Puntuación`,\n",
    "        COUNT(*) AS `Reseñas`,\n",
    "        CASE WHEN b.Title IS NOT NULL THEN '✓' ELSE '✗' END AS `En Catálogo`\n",
    "    FROM reviews r\n",
    "    LEFT JOIN books b ON r.normalized_title = b.normalized_title\n",
    "    GROUP BY r.Title, b.Title\n",
    "    ORDER BY `Puntuación` DESC\n",
    "    LIMIT 10\n",
    "\"\"\")\n",
    "\n",
    "print(\"\\n=== RESULTADOS SQL ===\")\n",
    "top_books_sql.show(truncate=30, vertical=False)"
   ]
  },
  {
   "cell_type": "markdown",
   "id": "044e4cdd-21ed-4385-ac6f-402060147cb1",
   "metadata": {},
   "source": [
    "## ⚡ Comparación de Rendimiento\n",
    "\n",
    "Benchmark para la misma operación (conteo de libros únicos) implementada en:\n",
    "\n",
    "| Paradigma | Tiempo Ejecución | Ventajas |\n",
    "|-----------|------------------|----------|\n",
    "| **RDD** | X seg | Más control bajo nivel |\n",
    "| **DataFrame** | Y seg | Optimización automática |"
   ]
  },
  {
   "cell_type": "code",
   "execution_count": 21,
   "id": "f187c956-1e71-45fb-8ed1-b36c6ca102cf",
   "metadata": {},
   "outputs": [
    {
     "name": "stdout",
     "output_type": "stream",
     "text": [
      "\n",
      "=== COMPARACIÓN DE RENDIMIENTO ===\n"
     ]
    },
    {
     "name": "stderr",
     "output_type": "stream",
     "text": [
      "                                                                                "
     ]
    },
    {
     "name": "stdout",
     "output_type": "stream",
     "text": [
      "Conteo libros únicos (RDD): 11.015 segundos\n"
     ]
    },
    {
     "name": "stderr",
     "output_type": "stream",
     "text": [
      "                                                                                "
     ]
    },
    {
     "name": "stdout",
     "output_type": "stream",
     "text": [
      "Conteo libros únicos (DataFrame): 4.427 segundos\n"
     ]
    },
    {
     "data": {
      "image/png": "[encoded data removed]",
      "text/plain": [
       "<Figure size 800x400 with 1 Axes>"
      ]
     },
     "metadata": {},
     "output_type": "display_data"
    }
   ],
   "source": [
    "from time import time\n",
    "\n",
    "# Preparar RDD\n",
    "reviews_rdd = sc.textFile(\"/data/Books_rating.csv\") \\\n",
    "    .map(lambda line: line.split(\",\")) \\\n",
    "    .filter(lambda x: len(x) > 1)  # Filtrar líneas mal formadas\n",
    "\n",
    "# Función para medir tiempos\n",
    "def medir_tiempo(operacion, descripcion):\n",
    "    inicio = time()\n",
    "    resultado = operacion()\n",
    "    tiempo = time() - inicio\n",
    "    print(f\"{descripcion}: {tiempo:.3f} segundos\")\n",
    "    return tiempo\n",
    "\n",
    "# Comparación\n",
    "print(\"\\n=== COMPARACIÓN DE RENDIMIENTO ===\")\n",
    "tiempo_rdd = medir_tiempo(\n",
    "    lambda: reviews_rdd.map(lambda x: x[0]).distinct().count(),\n",
    "    \"Conteo libros únicos (RDD)\"\n",
    ")\n",
    "\n",
    "tiempo_df = medir_tiempo(\n",
    "    lambda: reviews_df.select(\"Id\").distinct().count(),\n",
    "    \"Conteo libros únicos (DataFrame)\"\n",
    ")\n",
    "\n",
    "# Gráfico comparativo\n",
    "import matplotlib.pyplot as plt\n",
    "plt.figure(figsize=(8, 4))\n",
    "plt.bar([\"RDD\", \"DataFrame\"], [tiempo_rdd, tiempo_df], color=[\"#ff7f0e\", \"#1f77b4\"])\n",
    "plt.title(\"Comparación de Rendimiento\")\n",
    "plt.ylabel(\"Segundos\")\n",
    "plt.grid(axis=\"y\", linestyle=\"--\")\n",
    "plt.show()"
   ]
  },
  {
   "cell_type": "markdown",
   "id": "1d24f7d1-3550-4b68-a210-bb219f8ec829",
   "metadata": {},
   "source": [
    "## 📌 Insights Adicionales\n",
    "\n",
    "1. **Distribución de Ratings**:\n",
    "   - ¿Cómo se distribuyen las puntuaciones?\n",
    "   - ¿Hay más ratings altos que bajos?\n",
    "\n",
    "2. **Usuarios Más Activos**:\n",
    "   - Identificamos a los reviewers más prolíficos\n",
    "   - Posible análisis de calidad vs cantidad"
   ]
  },
  {
   "cell_type": "code",
   "execution_count": 22,
   "id": "09315d8a-1212-4d4b-a067-e4a1847b8dc5",
   "metadata": {},
   "outputs": [
    {
     "name": "stdout",
     "output_type": "stream",
     "text": [
      "\n",
      "=== DISTRIBUCIÓN DE PUNTUACIONES ===\n"
     ]
    },
    {
     "name": "stderr",
     "output_type": "stream",
     "text": [
      "                                                                                "
     ]
    },
    {
     "name": "stdout",
     "output_type": "stream",
     "text": [
      "+------------+-------+\n",
      "|review_score|  count|\n",
      "+------------+-------+\n",
      "|         1.0| 201000|\n",
      "|         2.0| 150449|\n",
      "|         3.0| 252940|\n",
      "|         4.0| 581728|\n",
      "|         5.0|1795795|\n",
      "|       19.95|     15|\n",
      "|       327.0|      5|\n",
      "| 1.2089952E9|      1|\n",
      "|   1.21176E9|      2|\n",
      "|  1.295568E9|      1|\n",
      "+------------+-------+\n",
      "\n",
      "\n",
      "=== TOP 10 USUARIOS MÁS ACTIVOS ===\n"
     ]
    },
    {
     "name": "stderr",
     "output_type": "stream",
     "text": [
      "[Stage 55:=======================>                                 (9 + 9) / 22]"
     ]
    },
    {
     "name": "stdout",
     "output_type": "stream",
     "text": [
      "+--------------+--------------------------------------+------+\n",
      "|User_id       |profileName                           |count |\n",
      "+--------------+--------------------------------------+------+\n",
      "|NULL          |NULL                                  |561492|\n",
      "|A14OJS0VWMOSWO|Midwest Book Review                   |5791  |\n",
      "|AFVQZQ8PW0L   |Harriet Klausner                      |3606  |\n",
      "|A1D2C0WDCSHUWZ|\"E. A Solinas \"\"ea_solinas\"\"\"         |3145  |\n",
      "|AHD101501WCN1 |\"Shalom Freedman \"\"Shalom Freedman\"\"\" |1994  |\n",
      "|A1X8VZWTOG8IS6|\"Blue Tyson \"\"- Research Finished\"\"\"  |1803  |\n",
      "|A1K1JW1C5CUSUZ|\"Donald Mitchell \"\"Jesus Loves You!\"\"\"|1455  |\n",
      "|A20EEWWSFMZ1PN|\"bernie \"\"xyzzy\"\"\"                    |1387  |\n",
      "|A1S3C5OFU508P3|Charles Ashbacher                     |1307  |\n",
      "|A1N1YEMTI9DJ86|\"S. Schwartz \"\"romonko\"\"\"             |1030  |\n",
      "+--------------+--------------------------------------+------+\n",
      "\n"
     ]
    },
    {
     "name": "stderr",
     "output_type": "stream",
     "text": [
      "                                                                                "
     ]
    }
   ],
   "source": [
    "# Distribución de ratings\n",
    "print(\"\\n=== DISTRIBUCIÓN DE PUNTUACIONES ===\")\n",
    "reviews_df.groupBy(\"review_score\").count().orderBy(\"review_score\").show()\n",
    "\n",
    "# Top 10 usuarios más activos\n",
    "print(\"\\n=== TOP 10 USUARIOS MÁS ACTIVOS ===\")\n",
    "reviews_df.groupBy(\"User_id\", \"profileName\").count() \\\n",
    "    .orderBy(desc(\"count\")) \\\n",
    "    .limit(10) \\\n",
    "    .show(truncate=False)"
   ]
  }
 ],
 "metadata": {
  "kernelspec": {
   "display_name": "Python 3 (ipykernel)",
   "language": "python",
   "name": "python3"
  },
  "language_info": {
   "codemirror_mode": {
    "name": "ipython",
    "version": 3
   },
   "file_extension": ".py",
   "mimetype": "text/x-python",
   "name": "python",
   "nbconvert_exporter": "python",
   "pygments_lexer": "ipython3",
   "version": "3.8.10"
  }
 },
 "nbformat": 4,
 "nbformat_minor": 5
}
