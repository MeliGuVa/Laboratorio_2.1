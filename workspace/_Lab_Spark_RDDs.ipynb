{
 "cells": [
  {
   "cell_type": "markdown",
   "id": "9e00d365-a68c-4987-8f5c-f0fb9572beb2",
   "metadata": {},
   "source": [
    "# Laboratiorio de RDDs"
   ]
  },
  {
   "cell_type": "code",
   "execution_count": 13,
   "id": "b46a546f-1692-4820-b237-99a611bcbebf",
   "metadata": {},
   "outputs": [
    {
     "name": "stderr",
     "output_type": "stream",
     "text": [
      "25/05/29 19:49:30 WARN SparkSession: Using an existing Spark session; only runtime SQL configurations will take effect.\n"
     ]
    }
   ],
   "source": [
    "from pyspark.sql import SparkSession\n",
    "\n",
    "# Initialize Spark session with cluster master\n",
    "spark = SparkSession.builder \\\n",
    "    .appName(\"Lab2.1\") \\\n",
    "    .master(\"local[*]\") \\\n",
    "    .config(\"spark.executor.memory\", \"4g\") \\\n",
    "    .config(\"spark.driver.memory\", \"2g\") \\\n",
    "    .config(\"spark.memory.fraction\", \"0.6\") \\\n",
    "    .config(\"spark.memory.storageFraction\", \"0.5\") \\\n",
    "    .getOrCreate()\n",
    "\n",
    "sc = spark.sparkContext"
   ]
  },
  {
   "cell_type": "code",
   "execution_count": 2,
   "id": "e149a2eb-e9ee-4f22-8404-cc0d230ea826",
   "metadata": {},
   "outputs": [],
   "source": [
    "# Cargar CSV y extraer columna de texto como RDD\n",
    "reviews_rdd = sc.textFile(\"/data/Books_rating.csv\")\n",
    "books_rdd = sc.textFile(\"/data/books_data.csv\")"
   ]
  },
  {
   "cell_type": "markdown",
   "id": "def1255c-b7cb-4011-8c58-e051f232ae88",
   "metadata": {},
   "source": [
    "textFile() lee un archivo de texto (o directorio) y lo devuelve como un RDD de strings.\n",
    "\n",
    "Cada línea del archivo se convierte en un elemento del RDD."
   ]
  },
  {
   "cell_type": "code",
   "execution_count": 3,
   "id": "25caab94-80c7-42b7-8f7f-37da2c772014",
   "metadata": {},
   "outputs": [
    {
     "name": "stderr",
     "output_type": "stream",
     "text": [
      "                                                                                "
     ]
    },
    {
     "name": "stdout",
     "output_type": "stream",
     "text": [
      "Número de reviews: 3000001\n",
      "Número de libros: 212405\n"
     ]
    },
    {
     "name": "stderr",
     "output_type": "stream",
     "text": [
      "                                                                                "
     ]
    }
   ],
   "source": [
    "print(f\"Número de reviews: {reviews_rdd.count()}\")\n",
    "print(f\"Número de libros: {books_rdd.count()}\")"
   ]
  },
  {
   "cell_type": "markdown",
   "id": "8f68a0e2-0634-43dd-8be0-2eca758c0b08",
   "metadata": {},
   "source": [
    "## Comparación de rendimiento con/sin caching"
   ]
  },
  {
   "cell_type": "code",
   "execution_count": 27,
   "id": "7aeb7b0b-98a5-4d9d-8ed1-71c4af5fcac2",
   "metadata": {},
   "outputs": [
    {
     "name": "stderr",
     "output_type": "stream",
     "text": [
      "                                                                                "
     ]
    },
    {
     "data": {
      "image/png": "[encoded data removed]",
      "text/plain": [
       "<Figure size 640x480 with 1 Axes>"
      ]
     },
     "metadata": {},
     "output_type": "display_data"
    }
   ],
   "source": [
    "# Celda 3: Word Count con comparación de caching\n",
    "def run_word_count(rdd, use_cache=False):\n",
    "    start = time()\n",
    "    \n",
    "    if use_cache:\n",
    "        rdd = rdd.cache()\n",
    "    \n",
    "    word_count = (\n",
    "        rdd\n",
    "        .flatMap(lambda line: line.split(\" \"))\n",
    "        .map(lambda word: (word.lower(), 1))\n",
    "        .reduceByKey(lambda a, b: a + b)\n",
    "    )\n",
    "    \n",
    "    count = word_count.count()\n",
    "    elapsed = time() - start\n",
    "    \n",
    "    if use_cache:\n",
    "        rdd.unpersist()\n",
    "        \n",
    "    return elapsed\n",
    "\n",
    "# Ejecutar y comparar\n",
    "time_no_cache = run_word_count(reviews_rdd, False)\n",
    "time_cache = run_word_count(reviews_rdd, True)\n",
    "\n",
    "# Visualización\n",
    "plt.bar([\"Sin cache\", \"Con cache\"], [time_no_cache, time_cache], color=[\"red\", \"green\"])\n",
    "plt.title(\"Comparación de tiempos de Word Count\")\n",
    "plt.ylabel(\"Tiempo (segundos)\")\n",
    "plt.show()"
   ]
  },
  {
   "cell_type": "markdown",
   "id": "7a0c6801-59b8-4383-9846-863e6b1f518c",
   "metadata": {},
   "source": [
    "**Explicación de transformaciones:**\n",
    "\n",
    "1. flatMap(): Divide cada línea en palabras y \"aplana\" los resultados en un solo RDD.\n",
    "\n",
    "2. map(): Transforma cada palabra en un par (palabra en minúscula, 1).\n",
    "\n",
    "3. reduceByKey(): Combina los valores para cada clave usando una función (suma en este caso).\n",
    "\n",
    "**Explicación de caching:**\n",
    "\n",
    "1. cache(): Persiste el RDD en memoria para reutilización futura.\n",
    "\n",
    "2. unpersist(): Elimina el RDD de la memoria cuando ya no se necesita."
   ]
  },
  {
   "cell_type": "code",
   "execution_count": 29,
   "id": "beefc806-7cb1-48b0-8495-362148f38d00",
   "metadata": {},
   "outputs": [
    {
     "name": "stdout",
     "output_type": "stream",
     "text": [
      "104.74665451049805\n",
      "106.14357495307922\n"
     ]
    }
   ],
   "source": [
    "print(time_no_cache)\n",
    "print(time_cache)"
   ]
  },
  {
   "cell_type": "code",
   "execution_count": 7,
   "id": "a58d6202-8929-4992-b6be-9cd767ac3fb7",
   "metadata": {},
   "outputs": [
    {
     "name": "stderr",
     "output_type": "stream",
     "text": [
      "[Stage 3:=======================================================> (84 + 2) / 86]"
     ]
    },
    {
     "name": "stdout",
     "output_type": "stream",
     "text": [
      "Tiempo sin cache: 102.9879240989685\n"
     ]
    },
    {
     "name": "stderr",
     "output_type": "stream",
     "text": [
      "                                                                                "
     ]
    }
   ],
   "source": [
    "from pyspark import StorageLevel\n",
    "from time import time\n",
    "import matplotlib.pyplot as plt\n",
    "\n",
    "start = time()\n",
    "\n",
    "word_count_no_cache = (\n",
    "    reviews_rdd\n",
    "    .flatMap(lambda line: line.split(\" \"))\n",
    "    .map(lambda word: (word.lower(), 1))\n",
    "    .reduceByKey(lambda a, b: a + b)\n",
    ")\n",
    "\n",
    "word_count_no_cache.count()\n",
    "time_no_cache = time() - start\n",
    "print(\"Tiempo sin cache:\", time_no_cache)"
   ]
  },
  {
   "cell_type": "markdown",
   "id": "0c0d4531-62de-4bc6-98ee-16ff7baf083d",
   "metadata": {},
   "source": [
    "Asumimos que reviews_rdd tiene pares (book_id, (rating, 1))\n",
    "\n",
    "reduceByKey: Combina los valores para cada book_id sumando los ratings y los conteos.\n",
    "\n",
    "mapValues: Calcula el promedio dividiendo la suma de ratings por el conteo."
   ]
  },
  {
   "cell_type": "code",
   "execution_count": 8,
   "id": "c115836d-cc4a-4029-8238-de3fe36b27ae",
   "metadata": {},
   "outputs": [
    {
     "name": "stderr",
     "output_type": "stream",
     "text": [
      "[Stage 5:=====================================================>   (81 + 5) / 86]"
     ]
    },
    {
     "name": "stdout",
     "output_type": "stream",
     "text": [
      "Tiempo con cache: 108.43881440162659\n"
     ]
    },
    {
     "name": "stderr",
     "output_type": "stream",
     "text": [
      "                                                                                "
     ]
    }
   ],
   "source": [
    "reviews_rdd.cache()\n",
    "\n",
    "start = time()\n",
    "\n",
    "word_count_cache = (\n",
    "    reviews_rdd\n",
    "    .flatMap(lambda line: line.split(\" \"))\n",
    "    .map(lambda word: (word.lower(), 1))\n",
    "    .reduceByKey(lambda a, b: a + b)\n",
    ")\n",
    "\n",
    "word_count_cache.count()\n",
    "time_cache = time() - start\n",
    "print(\"Tiempo con cache:\", time_cache)\n"
   ]
  },
  {
   "cell_type": "code",
   "execution_count": 9,
   "id": "af66622f-bea0-4e65-9370-158fccb3c12b",
   "metadata": {},
   "outputs": [
    {
     "data": {
      "image/png": "[encoded data removed]",
      "text/plain": [
       "<Figure size 640x480 with 1 Axes>"
      ]
     },
     "metadata": {},
     "output_type": "display_data"
    }
   ],
   "source": [
    "plt.bar([\"Sin cache\", \"Con cache\"], [time_no_cache, time_cache], color=[\"red\", \"green\"])\n",
    "plt.title(\"Comparación de tiempos de Word Count\")\n",
    "plt.ylabel(\"Tiempo (segundos)\")\n",
    "plt.show()\n"
   ]
  },
  {
   "cell_type": "markdown",
   "id": "a105142c-9090-42f5-9ffc-b04726d4b805",
   "metadata": {},
   "source": [
    "## Cálculo de rating promedio por libro"
   ]
  },
  {
   "cell_type": "code",
   "execution_count": 29,
   "id": "8a3b4df4-cc64-4191-b7d7-ca429c84200c",
   "metadata": {},
   "outputs": [
    {
     "name": "stdout",
     "output_type": "stream",
     "text": [
      "Tiempo promedio rating por libro: 0.03366994857788086\n"
     ]
    }
   ],
   "source": [
    "from pyspark import StorageLevel\n",
    "from time import time\n",
    "import matplotlib.pyplot as plt\n",
    "start = time()\n",
    "avg_rating_per_book = (\n",
    "    reviews_rdd\n",
    "    .reduceByKey(lambda a, b: (a[0] + b[0], a[1] + b[1]))\n",
    "    .mapValues(lambda pair: pair[0] / pair[1])\n",
    ")\n",
    "print(\"Tiempo promedio rating por libro:\", time() - start)"
   ]
  },
  {
   "cell_type": "markdown",
   "id": "7206e225-4b3b-4bb8-b40d-f855a7f9ab3f",
   "metadata": {},
   "source": [
    "Asumimos que reviews_rdd tiene pares (book_id, (rating, 1))\n",
    "\n",
    "reduceByKey: Combina los valores para cada book_id sumando los ratings y los conteos.\n",
    "\n",
    "mapValues: Calcula el promedio dividiendo la suma de ratings por el conteo."
   ]
  },
  {
   "cell_type": "markdown",
   "id": "e4578f1c-522d-4bfe-bdaa-f418d65d7883",
   "metadata": {},
   "source": [
    "## Conteo de ratings por libro"
   ]
  },
  {
   "cell_type": "code",
   "execution_count": 16,
   "id": "28a9c9ac-c786-4355-aec8-edec3881a4d7",
   "metadata": {},
   "outputs": [
    {
     "name": "stderr",
     "output_type": "stream",
     "text": [
      "[Stage 13:============================================>           (49 + 9) / 61]"
     ]
    },
    {
     "name": "stdout",
     "output_type": "stream",
     "text": [
      "Tiempo conteo de ratings por libro: 12.573649644851685\n"
     ]
    },
    {
     "name": "stderr",
     "output_type": "stream",
     "text": [
      "                                                                                "
     ]
    }
   ],
   "source": [
    "start = time()\n",
    "ratings_count_per_book = (\n",
    "    reviews_rdd\n",
    "    .mapValues(lambda x: 1)\n",
    "    .reduceByKey(lambda a, b: a + b)\n",
    ")\n",
    "ratings_count_per_book.take(5)\n",
    "print(\"Tiempo conteo de ratings por libro:\", time() - start)"
   ]
  },
  {
   "cell_type": "code",
   "execution_count": 17,
   "id": "fbf86136-c3e4-4c34-8991-95b8a8375ec0",
   "metadata": {},
   "outputs": [
    {
     "name": "stderr",
     "output_type": "stream",
     "text": [
      "                                                                                "
     ]
    },
    {
     "data": {
      "text/plain": [
       "[('7', 103), ('B', 1565561), ('0', 1025169), ('2', 2097), ('1', 372495)]"
      ]
     },
     "execution_count": 17,
     "metadata": {},
     "output_type": "execute_result"
    }
   ],
   "source": [
    "ratings_count_per_book.take(5)"
   ]
  },
  {
   "cell_type": "markdown",
   "id": "79e713ad-7874-40e5-8e4a-2e8f1b3fc5b8",
   "metadata": {},
   "source": [
    "mapValues: Para cada reseña, devuelve 1 (queremos contar, no sumar ratings).\n",
    "\n",
    "reduceByKey: Cuenta las reseñas sumando los unos para cada book_id."
   ]
  },
  {
   "cell_type": "markdown",
   "id": "8ced4f67-d931-4cda-b302-f5916aa35a70",
   "metadata": {},
   "source": [
    "## Análisis de palabras en títulos"
   ]
  },
  {
   "cell_type": "code",
   "execution_count": 21,
   "id": "7ceeae44-421a-4425-b610-9f66b1b69dbc",
   "metadata": {},
   "outputs": [
    {
     "name": "stderr",
     "output_type": "stream",
     "text": [
      "                                                                                "
     ]
    }
   ],
   "source": [
    "books_header = books_rdd.first()\n",
    "\n",
    "titles_rdd = (\n",
    "    books_rdd\n",
    "    .filter(lambda line: line != books_header)\n",
    "    .map(lambda line: line.split(\",\")[1])  # Suponiendo título en la segunda columna\n",
    ")\n",
    "\n",
    "word_counts = ( \n",
    "    titles_rdd\n",
    "    .flatMap(lambda title: title.lower().split(\" \"))\n",
    "    .map(lambda word: (word, 1))\n",
    "    .reduceByKey(lambda a, b: a + b)\n",
    "    .sortBy(lambda x: -x[1])\n",
    ")\n"
   ]
  },
  {
   "cell_type": "markdown",
   "id": "9262312e-d3ea-4dce-a9b8-34720a293134",
   "metadata": {},
   "source": [
    "filter: Elimina la línea de encabezado del CSV.\n",
    "\n",
    "map: Extrae solo la columna de título.\n",
    "\n",
    "flatMap: Divide cada título en palabras individuales.\n",
    "\n",
    "map: Crea pares (palabra, 1) para contar.\n",
    "\n",
    "reduceByKey: Suma las ocurrencias de cada palabra.\n",
    "\n",
    "sortBy: Ordena las palabras por frecuencia descendente.\n",
    "\n",
    "filter: Elimina palabras vacías y stopwords comunes."
   ]
  },
  {
   "cell_type": "code",
   "execution_count": 22,
   "id": "befca880-070c-415a-8b92-d46bbbdb6af7",
   "metadata": {},
   "outputs": [
    {
     "data": {
      "text/plain": [
       "[('the', 136625),\n",
       " ('of', 105066),\n",
       " ('', 85397),\n",
       " ('and', 70292),\n",
       " ('a', 56350),\n",
       " ('to', 49943),\n",
       " ('in', 43774),\n",
       " ('is', 26649),\n",
       " ('for', 21908),\n",
       " ('with', 15743)]"
      ]
     },
     "execution_count": 22,
     "metadata": {},
     "output_type": "execute_result"
    }
   ],
   "source": [
    "word_counts.take(10)"
   ]
  },
  {
   "cell_type": "code",
   "execution_count": 25,
   "id": "8ff89779-fbfb-488a-a9b3-96ffe50169fb",
   "metadata": {},
   "outputs": [
    {
     "name": "stdout",
     "output_type": "stream",
     "text": [
      "book: 13009\n",
      "\"the: 11684\n",
      "his: 9154\n",
      "\"a: 8544\n",
      "new: 8427\n",
      "\"this: 8395\n",
      ".: 7609\n",
      "you: 7258\n",
      "her: 6445\n",
      "has: 6155\n"
     ]
    }
   ],
   "source": [
    "stopwords = {\n",
    "    \"the\", \"a\", \"an\", \"and\", \"or\", \"of\", \"in\", \"on\", \"for\", \"with\",\n",
    "    \"at\", \"by\", \"to\", \"from\", \"is\", \"are\", \"was\", \"were\", \"be\", \"as\",\n",
    "    \"this\", \"that\", \"it\", \"its\", \"but\", \"not\", \"so\"\n",
    "}\n",
    "word_counts_filtered = (\n",
    "    word_counts\n",
    "    .filter(lambda wc: wc[0] and wc[0] not in stopwords)\n",
    ")\n",
    "\n",
    "top_words = word_counts_filtered.take(10)\n",
    "for word, count in top_words:\n",
    "    print(f\"{word}: {count}\")"
   ]
  },
  {
   "cell_type": "code",
   "execution_count": 5,
   "id": "e78610be-6f5b-44a5-8a2a-9649dabd37a3",
   "metadata": {},
   "outputs": [
    {
     "name": "stderr",
     "output_type": "stream",
     "text": [
      "[Stage 7:======================================================>  (21 + 1) / 22]"
     ]
    },
    {
     "name": "stdout",
     "output_type": "stream",
     "text": [
      "Esquema del DataFrame:\n",
      "root\n",
      " |-- Id: string (nullable = true)\n",
      " |-- Title: string (nullable = true)\n",
      " |-- Price: string (nullable = true)\n",
      " |-- User_id: string (nullable = true)\n",
      " |-- profileName: string (nullable = true)\n",
      " |-- review/helpfulness: string (nullable = true)\n",
      " |-- review/score: string (nullable = true)\n",
      " |-- review/time: string (nullable = true)\n",
      " |-- review/summary: string (nullable = true)\n",
      " |-- review/text: string (nullable = true)\n",
      "\n",
      "Número de particiones: 22\n"
     ]
    },
    {
     "name": "stderr",
     "output_type": "stream",
     "text": [
      "                                                                                "
     ]
    }
   ],
   "source": [
    "# Cargar datos con inferencia de esquema controlada\n",
    "reviews_df = spark.read.csv(\n",
    "    \"/data/Books_rating.csv\",\n",
    "    header=True,\n",
    "    inferSchema=True,\n",
    "    samplingRatio=0.1  # Muestrea solo el 10% para inferir el esquema\n",
    ")\n",
    "\n",
    "# Verificar esquema y memoria usada\n",
    "print(\"Esquema del DataFrame:\")\n",
    "reviews_df.printSchema()\n",
    "print(f\"Número de particiones: {reviews_df.rdd.getNumPartitions()}\")"
   ]
  },
  {
   "cell_type": "markdown",
   "id": "fc10a5c3-b0e5-428f-9d89-daa47f9cc100",
   "metadata": {},
   "source": [
    "## Uso de persist"
   ]
  },
  {
   "cell_type": "code",
   "execution_count": 18,
   "id": "9b31d8cf-8e5e-4cb1-b48f-84ff61d492fb",
   "metadata": {},
   "outputs": [
    {
     "data": {
      "text/plain": [
       "DataFrame[Title: string, review/summary: string, review_score: double]"
      ]
     },
     "execution_count": 18,
     "metadata": {},
     "output_type": "execute_result"
    }
   ],
   "source": [
    "from pyspark import StorageLevel\n",
    "# Seleccionar solo las columnas necesarias\n",
    "cols_needed = [\"Title\", \"review/score\", \"review/summary\"]\n",
    "reviews_df = reviews_df.select(cols_needed)\n",
    "\n",
    "# Convertir y limpiar datos\n",
    "reviews_clean = reviews_df.withColumn(\n",
    "    \"review_score\",\n",
    "    when(col(\"review/score\").cast(\"double\").isNull(), 0.0)\n",
    "    .otherwise(col(\"review/score\").cast(\"double\"))\n",
    ").drop(\"review/score\")\n",
    "\n",
    "# Persistencia con nivel óptimo\n",
    "reviews_clean.persist(StorageLevel.MEMORY_AND_DISK)"
   ]
  },
  {
   "cell_type": "code",
   "execution_count": 19,
   "id": "468ff192-d43c-4784-a046-36e483d36416",
   "metadata": {},
   "outputs": [
    {
     "name": "stderr",
     "output_type": "stream",
     "text": [
      "[Stage 28:================================================>       (19 + 3) / 22]"
     ]
    },
    {
     "name": "stdout",
     "output_type": "stream",
     "text": [
      "+------------------------------------------------------------------------------------------------+------------------+------------+\n",
      "|Title                                                                                           |avg_rating        |review_count|\n",
      "+------------------------------------------------------------------------------------------------+------------------+------------+\n",
      "|Pronti...Via!: Beginning Italian (Yale Language Series)                                         |4.0               |2           |\n",
      "|Outcast Cape Town                                                                               |5.0               |1           |\n",
      "|Administering Sap R/3: Sd-Sales and Distribution Module                                         |1.25              |8           |\n",
      "|Alfred & Guinevere                                                                              |4.0               |5           |\n",
      "|McSe Readiness Review Exam 70-059: Internetworking With Tcp/Ip on Microsoft Windows Nt 4.0      |4.642857142857143 |14          |\n",
      "|The Hay Diet Made Easy: A Practical Guide to Food Combining                                     |3.8               |15          |\n",
      "|The Fashion System                                                                              |4.666666666666667 |3           |\n",
      "|Shamrock Green                                                                                  |5.0               |3           |\n",
      "|Andy & Me: Crisis and Transformation on the Lean Journey                                        |3.8823529411764706|17          |\n",
      "|THE WORLD'S BIRTHDAY A ROSH HASHANAH STORY                                                      |4.5               |2           |\n",
      "|TV superstars scrapbook                                                                         |4.0               |1           |\n",
      "|Three Novels: The Deep, Engine Summer, and Beasts                                               |5.0               |10          |\n",
      "|Thomas and Tatian                                                                               |4.0               |2           |\n",
      "|Night Thoughts: Or, the Complaint and the Consolation                                           |5.0               |1           |\n",
      "|Problems With Atonement: The Origins Of, And Controversy About, The Atonement Doctrine          |5.0               |6           |\n",
      "|Linux to Go (Practical Distilled Expert Advice... to Go Series)                                 |3.75              |4           |\n",
      "|Microsoft Backoffice Small Business Server 4.5 Resource Kit (Resource Kit)                      |3.3333333333333335|3           |\n",
      "|The Color Printer Idea Book : 40 Really Cool and Useful Projects to Make with Any Color Printer!|4.555555555555555 |9           |\n",
      "|The further adventures of Jimmie Dale                                                           |5.0               |1           |\n",
      "|Thought power,: Its control and culture,                                                        |5.0               |3           |\n",
      "+------------------------------------------------------------------------------------------------+------------------+------------+\n",
      "only showing top 20 rows\n",
      "\n"
     ]
    },
    {
     "name": "stderr",
     "output_type": "stream",
     "text": [
      "                                                                                "
     ]
    }
   ],
   "source": [
    "optimized_avg = reviews_clean.repartition(16, \"Title\") \\\n",
    "    .groupBy(\"Title\") \\\n",
    "    .agg(\n",
    "        avg(\"review_score\").alias(\"avg_rating\"),\n",
    "        count(\"*\").alias(\"review_count\")\n",
    "    )\n",
    "\n",
    "# Forzar la presencia de columnas clave (opcional)\n",
    "optimized_avg = optimized_avg.select(\"Title\", \"avg_rating\", \"review_count\")\n",
    "\n",
    "# Mostrar resultados\n",
    "optimized_avg.show(20, truncate=False)"
   ]
  }
 ],
 "metadata": {
  "kernelspec": {
   "display_name": "Python 3 (ipykernel)",
   "language": "python",
   "name": "python3"
  },
  "language_info": {
   "codemirror_mode": {
    "name": "ipython",
    "version": 3
   },
   "file_extension": ".py",
   "mimetype": "text/x-python",
   "name": "python",
   "nbconvert_exporter": "python",
   "pygments_lexer": "ipython3",
   "version": "3.8.10"
  }
 },
 "nbformat": 4,
 "nbformat_minor": 5
}
